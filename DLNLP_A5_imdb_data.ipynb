{
  "nbformat": 4,
  "nbformat_minor": 0,
  "metadata": {
    "colab": {
      "name": "DLNLP_A5_a4dtata.ipynb",
      "provenance": []
    },
    "kernelspec": {
      "name": "python3",
      "display_name": "Python 3"
    },
    "language_info": {
      "name": "python"
    },
    "accelerator": "GPU"
  },
  "cells": [
    {
      "cell_type": "code",
      "metadata": {
        "id": "y2jIUEDHXDG0",
        "colab": {
          "base_uri": "https://localhost:8080/"
        },
        "outputId": "b38e362d-220e-4307-f222-c1d92dd2a3c4"
      },
      "source": [
        "import torchvision\n",
        "import torchvision.transforms as transforms\n",
        "import torch\n",
        "import torch.nn as nn\n",
        "import matplotlib.pyplot as plt\n",
        "import numpy as np\n",
        "import pandas as pd\n",
        "from sklearn.metrics import confusion_matrix\n",
        "import tensorflow_hub as hub\n",
        "from tqdm import tqdm\n",
        "import nltk\n",
        "from nltk import word_tokenize\n",
        "from sklearn.preprocessing import LabelEncoder\n",
        "nltk.download('punkt')\n",
        "from sklearn.metrics import confusion_matrix\n",
        "from tensorflow.python.keras.preprocessing.text import Tokenizer\n",
        "from tensorflow.python.keras.preprocessing.sequence import pad_sequences\n",
        "device = torch.device('cuda' if torch.cuda.is_available() else 'cpu')\n",
        "!pip install contractions\n",
        "import contractions"
      ],
      "execution_count": 1,
      "outputs": [
        {
          "output_type": "stream",
          "name": "stdout",
          "text": [
            "[nltk_data] Downloading package punkt to /root/nltk_data...\n",
            "[nltk_data]   Package punkt is already up-to-date!\n",
            "Requirement already satisfied: contractions in /usr/local/lib/python3.7/dist-packages (0.0.52)\n",
            "Requirement already satisfied: textsearch>=0.0.21 in /usr/local/lib/python3.7/dist-packages (from contractions) (0.0.21)\n",
            "Requirement already satisfied: anyascii in /usr/local/lib/python3.7/dist-packages (from textsearch>=0.0.21->contractions) (0.3.0)\n",
            "Requirement already satisfied: pyahocorasick in /usr/local/lib/python3.7/dist-packages (from textsearch>=0.0.21->contractions) (1.4.2)\n"
          ]
        }
      ]
    },
    {
      "cell_type": "code",
      "metadata": {
        "colab": {
          "base_uri": "https://localhost:8080/"
        },
        "id": "aGl_Vdt5YJNr",
        "outputId": "eb9060cc-e079-440f-a96f-fb45f7d91293"
      },
      "source": [
        "train_data = pd.read_csv('TrainData.csv').values\n",
        "test = pd.read_csv('TestData_Inputs.csv').values\n",
        "train_data[:10]"
      ],
      "execution_count": 2,
      "outputs": [
        {
          "output_type": "execute_result",
          "data": {
            "text/plain": [
              "array([['worldcom ex-boss launches defence lawyers defending former worldcom chief bernie ebbers against a battery of fraud charges have called a company whistleblower as their first witness.  cynthia cooper  worldcom s ex-head of internal accounting  alerted directors to irregular accounting practices at the us telecoms giant in 2002. her warnings led to the collapse of the firm following the discovery of an $11bn (£5.7bn) accounting fraud. mr ebbers has pleaded not guilty to charges of fraud and conspiracy.  prosecution lawyers have argued that mr ebbers orchestrated a series of accounting tricks at worldcom  ordering employees to hide expenses and inflate revenues to meet wall street earnings estimates. but ms cooper  who now runs her own consulting business  told a jury in new york on wednesday that external auditors arthur andersen had approved worldcom s accounting in early 2001 and 2002. she said andersen had given a  green light  to the procedures and practices used by worldcom. mr ebber s lawyers have said he was unaware of the fraud  arguing that auditors did not alert him to any problems.  ms cooper also said that during shareholder meetings mr ebbers often passed over technical questions to the company s finance chief  giving only  brief  answers himself. the prosecution s star witness  former worldcom financial chief scott sullivan  has said that mr ebbers ordered accounting adjustments at the firm  telling him to  hit our books . however  ms cooper said mr sullivan had not mentioned  anything uncomfortable  about worldcom s accounting during a 2001 audit committee meeting. mr ebbers could face a jail sentence of 85 years if convicted of all the charges he is facing. worldcom emerged from bankruptcy protection in 2004  and is now known as mci. last week  mci agreed to a buyout by verizon communications in a deal valued at $6.75bn.',\n",
              "        'business'],\n",
              "       ['german business confidence slides german business confidence fell in february knocking hopes of a speedy recovery in europe s largest economy.  munich-based research institute ifo said that its confidence index fell to 95.5 in february from 97.5 in january  its first decline in three months. the study found that the outlook in both the manufacturing and retail sectors had worsened. observers had been hoping that a more confident business sector would signal that economic activity was picking up.   we re surprised that the ifo index has taken such a knock   said dz bank economist bernd weidensteiner.  the main reason is probably that the domestic economy is still weak  particularly in the retail trade.  economy and labour minister wolfgang clement called the dip in february s ifo confidence figure  a very mild decline . he said that despite the retreat  the index remained at a relatively high level and that he expected  a modest economic upswing  to continue.  germany s economy grew 1.6% last year after shrinking in 2003. however  the economy contracted by 0.2% during the last three months of 2004  mainly due to the reluctance of consumers to spend. latest indications are that growth is still proving elusive and ifo president hans-werner sinn said any improvement in german domestic demand was sluggish. exports had kept things going during the first half of 2004  but demand for exports was then hit as the value of the euro hit record levels making german products less competitive overseas. on top of that  the unemployment rate has been stuck at close to 10% and manufacturing firms  including daimlerchrysler  siemens and volkswagen  have been negotiating with unions over cost cutting measures. analysts said that the ifo figures and germany s continuing problems may delay an interest rate rise by the european central bank. eurozone interest rates are at 2%  but comments from senior officials have recently focused on the threat of inflation  prompting fears that interest rates may rise.',\n",
              "        'business'],\n",
              "       ['bbc poll indicates economic gloom citizens in a majority of nations surveyed in a bbc world service poll believe the world economy is worsening.  most respondents also said their national economy was getting worse. but when asked about their own family s financial outlook  a majority in 14 countries said they were positive about the future. almost 23 000 people in 22 countries were questioned for the poll  which was mostly conducted before the asian tsunami disaster. the poll found that a majority or plurality of people in 13 countries believed the economy was going downhill  compared with respondents in nine countries who believed it was improving. those surveyed in three countries were split. in percentage terms  an average of 44% of respondents in each country said the world economy was getting worse  compared to 34% who said it was improving. similarly  48% were pessimistic about their national economy  while 41% were optimistic. and 47% saw their family s economic conditions improving  as against 36% who said they were getting worse.  the poll of 22 953 people was conducted by the international polling firm globescan  together with the program on international policy attitudes (pipa) at the university of maryland.  while the world economy has picked up from difficult times just a few years ago  people seem to not have fully absorbed this development  though they are personally experiencing its effects   said pipa director steven kull.  people around the world are saying:  i m ok  but the world isn t .  there may be a perception that war  terrorism and religious and political divisions are making the world a worse place  even though that has not so far been reflected in global economic performance  says the bbc s elizabeth blunt.  the countries where people were most optimistic  both for the world and for their own families  were two fast-growing developing economies  china and india  followed by indonesia. china has seen two decades of blistering economic growth  which has led to wealth creation on a huge scale  says the bbc s louisa lim in beijing. but the results also may reflect the untrammelled confidence of people who are subject to endless government propaganda about their country s rosy economic future  our correspondent says. south korea was the most pessimistic  while respondents in italy and mexico were also quite gloomy. the bbc s david willey in rome says one reason for that result is the changeover from the lira to the euro in 2001  which is widely viewed as the biggest reason why their wages and salaries are worth less than they used to be. the philippines was among the most upbeat countries on prospects for respondents  families  but one of the most pessimistic about the world economy. pipa conducted the poll from 15 november 2004 to 3 january 2005 across 22 countries in face-to-face or telephone interviews. the interviews took place between 15 november 2004 and 5 january 2005. the margin of error is between 2.5 and 4 points  depending on the country. in eight of the countries  the sample was limited to major metropolitan areas.',\n",
              "        'business'],\n",
              "       ['lifestyle  governs mobile choice  faster  better or funkier hardware alone is not going to help phone firms sell more handsets  research suggests.  instead  phone firms keen to get more out of their customers should not just be pushing the technology for its own sake. consumers are far more interested in how handsets fit in with their lifestyle than they are in screen size  onboard memory or the chip inside  shows an in-depth study by handset maker ericsson.  historically in the industry there has been too much focus on using technology   said dr michael bjorn  senior advisor on mobile media at ericsson s consumer and enterprise lab.  we have to stop saying that these technologies will change their lives   he said.  we should try to speak to consumers in their own language and help them see how it fits in with what they are doing   he told the bbc news website.  for the study  ericsson interviewed 14 000 mobile phone owners on the ways they use their phone.  people s habits remain the same   said dr bjorn.  they just move the activity into the mobile phone as it s a much more convenient way to do it.   one good example of this was diary-writing among younger people  he said. while diaries have always been popular  a mobile phone -- especially one equipped with a camera -- helps them keep it in a different form. youngsters  use of text messages also reflects their desire to chat and keep in contact with friends and again just lets them do it in a slightly changed way. dr bjorn said that although consumers do what they always did but use a phone to do it  the sheer variety of what the new handset technologies make possible does gradually drive new habits and lifestyles. ericsson s research has shown that consumers divide into different  tribes  that use phones in different ways. dr bjorn said groups dubbed  pioneers  and  materialists  were most interested in trying new things and were behind the start of many trends in phone use.  for instance   he said   older people are using sms much more than they did five years ago.  this was because younger users  often the children of ageing mobile owners  encouraged older people to try it so they could keep in touch.  another factor governing the speed of change in mobile phone use was the simple speed with which new devices are bought by pioneers and materialists. only when about 25% of people have handsets with new innovations on them  such as cameras  can consumers stop worrying that if they send a picture message the person at the other end will be able to see it.  once this significant number of users is passed  use of new innovations tends to take off. dr bjorn said that early reports of camera phone usage in japan seemed to imply that the innovation was going to be a flop. however  he said  now 45% of the japanese people ericsson questioned use their camera phone at least once a month. in 2003 the figure was 29%. similarly  across europe the numbers of people taking snaps with cameras is starting to rise. in 2003 only 4% of the people in the uk took a phonecam snap at least once a month. now the figure is 14%. similar rises have been seen in many other european nations. dr bjorn said that people also used their camera phones in very different ways to film and even digital cameras.  usage patterns for digital cameras are almost exactly replacing usage patterns for analogue cameras   he said. digital cameras tend to be used on significant events such as weddings  holidays and birthdays. by contrast  he said  camera phones were being used much more to capture a moment and were being woven into everyday life.',\n",
              "        'tech'],\n",
              "       ['enron bosses in $168m payout eighteen former enron directors have agreed a $168m (£89m) settlement deal in a shareholder lawsuit over the collapse of the energy firm.  leading plaintiff  the university of california  announced the news  adding that 10 of the former directors will pay $13m from their own pockets. the settlement will be put to the courts for approval next week. enron went bankrupt in 2001 after it emerged it had hidden hundreds of millions of dollars in debt.  before its collapse  the firm was the seventh biggest public us company by revenue. its demise sent shockwaves through financial markets and dented investor confidence in corporate america.   the settlement is very significant in holding these outside directors at least partially personally responsible   william lerach  the lawyer leading the class action suit against enron  said.  hopefully  this will help send a message to corporate boardrooms of the importance of directors performing their legal duties   he added. under the terms of the $168m settlement - $155m of which will be covered by insurance - none of the 18 former directors will admit any wrongdoing. the deal is the fourth major settlement negotiated by lawyers who filed a class action on behalf of enron s shareholders almost three years ago. so far  including the latest deal  just under $500m (£378.8m) has been retrieved for investors.  however  the latest deal does not include former enron chief executives ken lay and jeff skilling. both men are facing criminal charges for their alleged misconduct in the run up to the firm s collapse. neither does it cover andrew fastow  who has pleaded guilty to taking part in an illegal conspiracy while he was chief financial officer at the group. enron s shareholders are still seeking damages from a long list of other big name defendants including the financial institutions jp morgan chase  citigroup  merrill lynch and credit suisse first boston. the university of california said the trial in the case is scheduled to begin in october 2006. it joined the lawsuit in december 2001alleging  massive insider trading  and fraud  claiming it had lost $145m on its investments in the company.',\n",
              "        'business'],\n",
              "       ['howard  truanted to play snooker  conservative leader michael howard has admitted he used to play truant to spend time with his school friends at a snooker hall.  mr howard said his time at jack s snooker hall in llanelli in the 1950s had not done him  any lasting damage . but he told the times educational supplement that truancy was  very bad  and said  firm action  was needed. mr howard also called for a return to o-levels and more classroom discipline.  mr howard eventually left llanelli grammar school - and the snooker hall - to go to cambridge university. he said:  i don t think it s done me any lasting damage. nor has it made me a snooker world champion.  there might have been some occasions when we left early of an afternoon.   i m just being honest. i think truancy is a very bad thing and that firm action should be taken to deal with it.  another player who has failed to win snooker s world championship - jimmy  the whirlwind   white - has previously admitted missing lessons  instead spending his days in smoky halls.  tony meo [another player] and me used to spend all of our spare time there   mr white said   we loved the game and the atmosphere.  school went out of the window. i went for a while and then started taking time off.  mr howard s fellow welshman ray reardon - known by his fellow professionals as  dracula  - won the snooker world championship six times  having left school at 14 to work as a miner. and terry griffiths  like mr howard from llanelli  won the tournament in 1979. it is not known whether the two of them ever clashed cues at jack s.',\n",
              "        'politics'],\n",
              "       ['wales silent on grand slam talk rhys williams says wales are still not thinking of winning the grand slam despite a third six nations win.   that s the last thing on our minds at the moment   said williams  a second- half replacement in saturday s 24-18 win over france in paris.  we all realise how difficult a task it is to go up to scotland and beat them.  we ve come unstuck there a couple of times recently so our focus is on that game and we ll worry about ireland hopefully after we ve beaten scotland.  with captain gareth thomas ruled out of the rest of the campaign with a broken thumb  williams is vying for his first start in the championship so far.  kevin morgan is probably favourite to replace thomas at full-back  leaving williams and hal luscombe to battle for the right wing berth. a hamstring injury denied luscombe the opportunity to make a third successive start  but the dragons winger is expected to be fit for the trip to murrayfield on 13 march. hooker robin mcbryde is doubtful after picking up a knee injury in paris  but centre sonny parker and flanker colin charvis are set to recover from injury to be in contention for selection. said wales assistant coach scott johnson:  they ve worked through the weekend and the reports are a bit more positive.  so we re getting a couple back and that adds to the depth of the squad.  scotland secured their first win of the campaign on saturday by grinding out an 18-10 win over italy.  matt williams  side has shown little in attack  but johnson insisted the scots will be difficult opposition to break down.  italy are really brave opposition and sometimes it s very hard to win   he said.  so an ugly win can be just as effective as a 30 or 40 point victory.  scotland are a hard side and very underrated so we re not taking anything for granted.  we re not basking in the glory of winning our first three games. we ve got to be diligent in our preparation.  that s my job and we ve got to make sure we re focused.',\n",
              "        'sport'],\n",
              "       ['french honour for director parker british film director sir alan parker has been made an officer in the order of arts and letters  one of france s highest cultural honours.  sir alan received his decoration in paris on wednesday from french culture minister renaud donnedieu de vabres.  you have explored the possibilities of film with an immense talent   mr de vabres said as he presented the award. parker praised french films  saying:  hollywood  which created modern cinema  uses it only as a commodity.  he told the minister:  i am honoured to be thus distinguished by france  the flag carrier of cinema throughout the world.  sir alan s films include oscar-winning fame plus midnight express and the commitments.  a founding member of the director s guild of great britain  he is a former chairman of the uk film council and on the board of the british film institute.  through your work and your campaigns  you have shown us how the artist occupies an essential place in our contemporary society   mr de vabres said.  through your dreams which you show us  through the links that you weave  you question the world through the mirror of your work.  he also cited the director s 2003 film the life of david gale  in which kevin spacey played a man on death row  as proof of his  veritable artistic commitment against the death sentence .',\n",
              "        'entertainment'],\n",
              "       ['car giant hit by mercedes slump a slump in profitability at luxury car maker mercedes has prompted a big drop in profits at parent daimlerchrysler.  the german-us carmaker saw fourth quarter operating profits fall to 785m euros ($1bn) from 2.4bn euros in 2003. mercedes-benz s woes - its profits slid to just 20m euros - obscured a strong performance from the chrysler group whose returns met market expectations. mercedes faces fierce competition in the luxury car sector from bmw and but hopes to revive its fortunes by 2006.  mercedes  profits over the period compared unfavourably with 2003 s 784m euro figure and were well below analyst expectations of 374m euros. for the year as a whole  its operating profits fell 46% to 1.6bn euros. sales of mercedes  brands fell 2% as demand cooled  while revenues were affected by the weakness of the us dollar.  the carmaker blamed the fall in profits on high launch costs for new models and losses from its mercedes smart mini-car range. mercedes is hoping to increase productivity by 3bn euros  having negotiated 500m euros in annual savings with german workers last year. the firm said it was determined to retain mercedes  position as the world s most successful luxury brand. however  daimlerchrysler s shares fell 1.5% on the news.  while all these divisions are doing well the big worries continue to surround mercedes-benz   michael rabb  an analyst with bank sal oppenheim  told reuters.  in contrast  chrysler enjoyed a 5% annual increase in unit sales while revenues - calculated in us dollars - rose 10%. the us division - whose marques include dodge and jeep - transformed a full year operating loss of 506m euros in 2003 into a 1.4bn euros profit last year.  overall  daimlerchrysler saw worldwide vehicle sales rise 8% to 4.7 million in 2004 while total revenues added 4% to 142bn euros. chrysler s strong performance helped the world s fifth largest carmaker boost net income by 400m euros to 2.5bn euros.   the year 2004 shows that our strategy works well - even in such a challenging competitive environment   said jurgen schrempp  daimlerchrysler s chairman. daimlerchrysler took a 475m euro hit in costs stemming from a defects scandal at its joint venture  japanese subsidiary fuso. daimlerchrysler last week agreed a compensation package with partner mitsubishi motors which will see it buy out its stake in fuso. looking forward  daimerchrysler s profits are expected to be slightly higher in 2005. however  it is expecting  significant improvements  in profitability in 2006 as a result of a major investment in the mercedes product range.',\n",
              "        'business'],\n",
              "       ['fockers fuel festive film chart comedy meet the fockers topped the festive box office in north america  setting a new record for christmas day.  the sequel took $44.7m (£23.2m) between 24 and 26 december  according to studio estimates. it took $19.1m (£9.9m) on christmas day alone  the highest takings on that day in box office history. meet the fockers is the sequel to ben stiller comedy meet the parents  also starring robert de niro  blythe danner  dustin hoffman and barbra streisand. despite the success of meet the fockers  takings were down 26.5% on 2003 s figures - which was blamed on christmas falling over a weekend this year.   when christmas falls on a weekend  it s bad for business   said paul dergarabedian  president of exhibitor relations  which compiles box office statistics. the weekend s top 12 films took an estimated $121.9m (£63.3m)  compared with $165.8m (£86.1m) last year  when the third lord of the rings film dominated the box office. meet the fockers knocked last week s top film  lemony snicket s a series of unfortunate events  down to third place  with $12.5m (£6.5m). comedy fat albert - co-written by bill cosby - entered the chart in second place after opening on christmas day  taking $12.7m (£6.6m). the aviator  starring leonardo dicaprio as howard hughes  took $9.4m after expanding from 40 to 1 796 cinemas on christmas day.',\n",
              "        'entertainment']], dtype=object)"
            ]
          },
          "metadata": {},
          "execution_count": 2
        }
      ]
    },
    {
      "cell_type": "code",
      "metadata": {
        "colab": {
          "base_uri": "https://localhost:8080/"
        },
        "id": "g1_vPF4ah7QU",
        "outputId": "fcef435a-eb9a-45b1-db70-e88a21575e0a"
      },
      "source": [
        "import string\n",
        "punctuation = '!\"#$%&\\'()*+,-/:;<=>?@[\\]^_`{|}~'\n",
        "table = str.maketrans('','',punctuation)\n",
        "\n",
        "w = \"wekfwknefkf//*1.,..[][']]['\"\n",
        "w.translate(table)\n",
        "word_tokenize('helllo k.')"
      ],
      "execution_count": 3,
      "outputs": [
        {
          "output_type": "execute_result",
          "data": {
            "text/plain": [
              "['helllo', 'k', '.']"
            ]
          },
          "metadata": {},
          "execution_count": 3
        }
      ]
    },
    {
      "cell_type": "code",
      "metadata": {
        "colab": {
          "base_uri": "https://localhost:8080/"
        },
        "id": "8DBLZ4ySiZdB",
        "outputId": "175f0102-a596-4d6a-c36a-7fd39336ac79"
      },
      "source": [
        "np.random.seed(11)\n",
        "train_d = train_data[:,0]\n",
        "train_l = train_data[:,1]\n",
        "test_d = test[:,1]\n",
        "#test_l = test[:,1]\n",
        "print(train_d.shape)\n",
        "temp = list(zip(train_d, train_l))\n",
        "np.random.shuffle(temp)\n",
        "train_d, train_l = zip(*temp)"
      ],
      "execution_count": 4,
      "outputs": [
        {
          "output_type": "stream",
          "name": "stdout",
          "text": [
            "(1490,)\n"
          ]
        }
      ]
    },
    {
      "cell_type": "code",
      "metadata": {
        "id": "1JS_4_EuJ0VH"
      },
      "source": [
        "punctuation = '!\"#$%&\\'()*+,-/:;<=>?@[\\\\]^_`{|}~'\n",
        "stop_words = set(['i','am','re','are','be','so','or','a','an','as','he','she','his','her','the','there','here','and','but','other','on','in','to','of','up','down','after','before','we','they','has','have', 'was','were','is','','it','how','that','at','go','is','do','will','shall','ve','if','may','might','by','s','o','d','t','my','might','all','out','for','ll'])\n",
        "table = str.maketrans('','',punctuation)\n",
        "train_p = []\n",
        "test_p = []\n",
        "train_tokens = []\n",
        "for paragraph in train_d:\n",
        "  tokens = contractions.fix(paragraph)\n",
        "  temp = []\n",
        "  for sentence in nltk.tokenize.sent_tokenize(tokens):\n",
        "    if len(sentence)==0:\n",
        "        continue\n",
        "    #tokens = word_tokenize(tokens)\n",
        "    token = [w.translate(table)  for w in sentence.split(' ') if len(w)>0]\n",
        "    token = [w for w in token if w.isalpha()]\n",
        "    token = [w for w in token if not w in stop_words]\n",
        "    #print(token)\n",
        "    temp.append(token)\n",
        "    train_tokens += token\n",
        "  train_p.append(temp)\n",
        "\n",
        "for paragraph in test_d:\n",
        "  tokens = contractions.fix(paragraph)\n",
        "  temp = []\n",
        "  for sentence in nltk.tokenize.sent_tokenize(tokens):\n",
        "    if len(sentence)==0:\n",
        "        continue\n",
        "    #tokens = word_tokenize(tokens)\n",
        "    token = [w.translate(table)  for w in sentence.split(' ') if len(w)>0 ]\n",
        "\n",
        "    token = [w for w in token if w.isalpha()]\n",
        "    token = [w for w in token if not w in stop_words]\n",
        "    #print(token)\n",
        "    temp.append(token)\n",
        "  test_p.append(temp)"
      ],
      "execution_count": 5,
      "outputs": []
    },
    {
      "cell_type": "code",
      "metadata": {
        "colab": {
          "base_uri": "https://localhost:8080/"
        },
        "id": "EWRkUerRUb5S",
        "outputId": "dc82d875-cde5-4cb6-9cd7-a121b1a254a9"
      },
      "source": [
        "train_tokens[:20]"
      ],
      "execution_count": 6,
      "outputs": [
        {
          "output_type": "execute_result",
          "data": {
            "text/plain": [
              "['us',\n",
              " 'critics',\n",
              " 'laud',\n",
              " 'comedy',\n",
              " 'sideways',\n",
              " 'road',\n",
              " 'trip',\n",
              " 'comedy',\n",
              " 'sideways',\n",
              " 'had',\n",
              " 'more',\n",
              " 'praise',\n",
              " 'heaped',\n",
              " 'two',\n",
              " 'us',\n",
              " 'critics',\n",
              " 'associations',\n",
              " 'adding',\n",
              " 'honours',\n",
              " 'already']"
            ]
          },
          "metadata": {},
          "execution_count": 6
        }
      ]
    },
    {
      "cell_type": "code",
      "metadata": {
        "colab": {
          "base_uri": "https://localhost:8080/",
          "height": 578
        },
        "id": "sjyaNEhqMjYk",
        "outputId": "13268fa2-9e96-4907-c3ed-e1d489b52bed"
      },
      "source": [
        "plt.title('sequences counts in train data')\n",
        "plt.hist([len(t) for t in train_p])\n",
        "plt.show()\n",
        "print(f\"maximum sequence length: {max([len(t) for t in train_p])}\")\n",
        "\n",
        "plt.title('sequences counts in test data')\n",
        "plt.hist([len(t) for t in test_p])\n",
        "plt.show()\n",
        "print(f\"maximum sequence length: {max([len(t) for t in test_p])}\")"
      ],
      "execution_count": 7,
      "outputs": [
        {
          "output_type": "display_data",
          "data": {
            "image/png": "[encoded data removed]",
            "text/plain": [
              "<Figure size 432x288 with 1 Axes>"
            ]
          },
          "metadata": {
            "needs_background": "light"
          }
        },
        {
          "output_type": "stream",
          "name": "stdout",
          "text": [
            "maximum sequence length: 138\n"
          ]
        },
        {
          "output_type": "display_data",
          "data": {
            "image/png": "[encoded data removed]",
            "text/plain": [
              "<Figure size 432x288 with 1 Axes>"
            ]
          },
          "metadata": {
            "needs_background": "light"
          }
        },
        {
          "output_type": "stream",
          "name": "stdout",
          "text": [
            "maximum sequence length: 229\n"
          ]
        }
      ]
    },
    {
      "cell_type": "code",
      "metadata": {
        "colab": {
          "base_uri": "https://localhost:8080/",
          "height": 578
        },
        "id": "63REaANsnEPY",
        "outputId": "4abd4dbc-1831-44e6-bd88-dcfbca7ccaf4"
      },
      "source": [
        "plt.title('sentence len in train data')\n",
        "hist = []\n",
        "for paragraph in train_p:\n",
        "  hist+=[len(t) for t in paragraph]\n",
        "plt.plot(hist)\n",
        "plt.show()\n",
        "print(f\"maximum sentence length: {max(hist)}\")\n",
        "\n",
        "plt.title('sentence len in test data')\n",
        "hist = []\n",
        "for paragraph in test_p:\n",
        "  hist+=[len(t) for t in paragraph]\n",
        "plt.plot(hist)\n",
        "plt.show()\n",
        "print(f\"maximum sentence length: {max(hist)}\")"
      ],
      "execution_count": 8,
      "outputs": [
        {
          "output_type": "display_data",
          "data": {
            "image/png": "[encoded data removed]",
            "text/plain": [
              "<Figure size 432x288 with 1 Axes>"
            ]
          },
          "metadata": {
            "needs_background": "light"
          }
        },
        {
          "output_type": "stream",
          "name": "stdout",
          "text": [
            "maximum sentence length: 218\n"
          ]
        },
        {
          "output_type": "display_data",
          "data": {
            "image/png": "[encoded data removed]",
            "text/plain": [
              "<Figure size 432x288 with 1 Axes>"
            ]
          },
          "metadata": {
            "needs_background": "light"
          }
        },
        {
          "output_type": "stream",
          "name": "stdout",
          "text": [
            "maximum sentence length: 134\n"
          ]
        }
      ]
    },
    {
      "cell_type": "code",
      "metadata": {
        "colab": {
          "base_uri": "https://localhost:8080/"
        },
        "id": "q6pFFPu-MrdH",
        "outputId": "65e1b797-6e69-49fb-e805-9a3a7637f422"
      },
      "source": [
        "tokenizer = Tokenizer(oov_token='<oov>')\n",
        "tokenizer.fit_on_texts(train_tokens)\n",
        "X_tok_train = [tokenizer.texts_to_sequences(paragraph) for paragraph in train_p]\n",
        "X_tok_test = [tokenizer.texts_to_sequences(paragraph) for paragraph in test_p]\n",
        "word_index = tokenizer.word_index\n",
        "print(\"unique tokens except pad_token- \"+str(len(word_index)))\n",
        "vocab_size = len(tokenizer.word_index) + 1  #  pad_token at 0th index\n",
        "print('vocab_size - '+str(vocab_size))\n",
        "max_length = 25\n",
        "X_padded_lines_train = [pad_sequences(paragraph, maxlen=max_length, padding='post') for paragraph in X_tok_train]\n",
        "X_padded_lines_test = [pad_sequences(paragraph, maxlen=max_length, padding='post') for paragraph in X_tok_test]\n",
        "#create word list from token using utf8 encoding \n",
        "#word_list = [word for words in processedLines for word in words]"
      ],
      "execution_count": 9,
      "outputs": [
        {
          "output_type": "stream",
          "name": "stdout",
          "text": [
            "unique tokens except pad_token- 24299\n",
            "vocab_size - 24300\n"
          ]
        }
      ]
    },
    {
      "cell_type": "code",
      "metadata": {
        "id": "QxcSStMfNJwN"
      },
      "source": [
        "max_sen_length = 30\n",
        "X_padded_train = pad_sequences(X_padded_lines_train, maxlen = max_sen_length, padding='post')\n",
        "X_padded_test = pad_sequences(X_padded_lines_test, maxlen = max_sen_length, padding='post')"
      ],
      "execution_count": 10,
      "outputs": []
    },
    {
      "cell_type": "code",
      "metadata": {
        "colab": {
          "base_uri": "https://localhost:8080/"
        },
        "id": "3Zw1VAt6NODB",
        "outputId": "84529908-0f51-4278-b0ed-8e429d01969d"
      },
      "source": [
        "print('Train shape ::',X_padded_train.shape)\n",
        "print('Test shape ::',X_padded_test.shape)\n",
        "\n",
        "X_train = X_padded_train\n",
        "X_test = X_padded_test"
      ],
      "execution_count": 11,
      "outputs": [
        {
          "output_type": "stream",
          "name": "stdout",
          "text": [
            "Train shape :: (1490, 30, 25)\n",
            "Test shape :: (735, 30, 25)\n"
          ]
        }
      ]
    },
    {
      "cell_type": "code",
      "metadata": {
        "colab": {
          "base_uri": "https://localhost:8080/"
        },
        "id": "Wp0N7prydrQu",
        "outputId": "c92f62f6-064e-43d9-9c74-fbd86524407e"
      },
      "source": [
        "le = LabelEncoder()\n",
        "y_test = pd.read_excel('Assignment4_TestLabels.xlsx').values[:,2]\n",
        "print(y_test.shape)\n",
        "y_train = le.fit_transform(np.array(train_l))\n",
        "y_test = le.transform(y_test)\n",
        "num_classes=5"
      ],
      "execution_count": 12,
      "outputs": [
        {
          "output_type": "stream",
          "name": "stdout",
          "text": [
            "(735,)\n"
          ]
        }
      ]
    },
    {
      "cell_type": "code",
      "metadata": {
        "id": "Bb0EFxzlYWBb"
      },
      "source": [
        "class DAN(nn.Module):\n",
        "    def __init__(self, vocab_size, embed_dim=100):\n",
        "        super(DAN,self).__init__()\n",
        "        self.embedding = nn.Embedding(vocab_size,embed_dim)\n",
        "    def forward(self,x):\n",
        "        # x = [paragraphs, num_sentence, num_words]\n",
        "        embed = self.embedding(x)\n",
        "        embed_dan = torch.mean(x, dim = 2).unsqueeze(2)\n",
        "        # embed_da  = [paragraphs, num_sentences, embed_dim]\n",
        "\n"
      ],
      "execution_count": 13,
      "outputs": []
    },
    {
      "cell_type": "code",
      "metadata": {
        "colab": {
          "base_uri": "https://localhost:8080/"
        },
        "id": "dbkb_ghMV6u7",
        "outputId": "bd870f90-4dfc-4514-dedf-3e0defbadbb2"
      },
      "source": [
        "class DanCnn(nn.Module):\n",
        "    def __init__(self,vocab_size,embed_dim,seq_len,output_dim):\n",
        "        super(DanCnn, self).__init__()\n",
        "\n",
        "        self.embedding = nn.Embedding(vocab_size,embed_dim)\n",
        "\n",
        "        self.layer1 = nn.Sequential(\n",
        "            nn.Conv2d(in_channels=1, out_channels=100, kernel_size=(3,embed_dim)),\n",
        "            #nn.BatchNorm2d(200),\n",
        "            nn.ReLU(),\n",
        "            nn.MaxPool2d(kernel_size=(seq_len-2,1), stride=1)\n",
        "        )\n",
        "        \n",
        "        self.layer2 = nn.Sequential(\n",
        "            nn.Conv2d(in_channels=1, out_channels=100, kernel_size=(2,embed_dim)),\n",
        "            #nn.BatchNorm2d(200),\n",
        "            nn.ReLU(),\n",
        "            nn.MaxPool2d(kernel_size=(seq_len-1,1),stride=1)\n",
        "        )\n",
        "\n",
        "        self.layer3 = nn.Sequential(\n",
        "            nn.Conv2d(in_channels=1, out_channels=10, kernel_size=(6,embed_dim)),\n",
        "            #nn.BatchNorm2d(100),\n",
        "            nn.ReLU(),\n",
        "            nn.MaxPool2d(kernel_size=(seq_len-5,1),stride=1)\n",
        "        )\n",
        "        \n",
        "        self.fc1 = nn.Linear(in_features=embed_dim, out_features=32)\n",
        "        self.drop = nn.Dropout2d(0.25)\n",
        "        self.fc2 = nn.Linear(in_features=1000, out_features=500)\n",
        "        self.fc3 = nn.Linear(in_features=500, out_features=100)\n",
        "        self.fc4 = nn.Linear(in_features=32, out_features=output_dim)\n",
        "        \n",
        "    def forward(self, x):\n",
        "        # x = [batch num_sentence, num_words]\n",
        "        embed = self.embedding(x)\n",
        "        embed_dan = torch.mean(torch.mean(embed, dim = 2).squeeze(2),dim=1).squeeze(1)\n",
        "        # embed_da  = [batch,num_sentences, embed_dim]\n",
        "        # out1 = self.layer1(embed_dan).squeeze(-1).squeeze(-1)\n",
        "        # out2= self.layer2(embed_dan).squeeze(-1).squeeze(-1)\n",
        "        \n",
        "        # out3 = self.layer3(embed_dan).squeeze(-1).squeeze(-1)\n",
        "\n",
        "        # out4 = torch.cat((out1,out2,out3),dim=1)\n",
        "        \n",
        "        lin1 = self.fc1(embed_dan)\n",
        "        '''lin1 = self.drop(lin1)\n",
        "        lin2 = self.fc2(lin1)\n",
        "        lin2 = self.drop(lin2)\n",
        "        lin3 = self.fc3(lin2)'''\n",
        "        lin3 = self.drop(lin1)\n",
        "        lin4 = self.fc4(lin3)\n",
        "        return lin4\n",
        "\n",
        "embed_dim = 300\n",
        "vocab_dim = vocab_size\n",
        "max_sen_length = X_train.shape[1]\n",
        "num_classes = 5\n",
        "model = DanCnn(vocab_size=vocab_dim,embed_dim = embed_dim,seq_len=max_sen_length,output_dim=num_classes).to(device)\n",
        "\n",
        "error = nn.CrossEntropyLoss()\n",
        "\n",
        "learning_rate = 0.0001\n",
        "optimizer = torch.optim.RMSprop(model.parameters(), lr=learning_rate)\n",
        "num_epochs =  100\n",
        "batch_size = 2\n",
        "size = X_train.shape[0]\n",
        "d = int(size/batch_size)\n",
        "val_size = int(0.2*X_train.shape[0])\n",
        "X_train_b = np.array_split(X_train[val_size:,:,:],d)\n",
        "y_train_b = np.array_split(y_train[val_size:],d)\n",
        "train_loss = []\n",
        "val_loss = []\n",
        "\n",
        "X_val = X_train[:val_size,:,:]\n",
        "y_val = y_train[:val_size] \n",
        "X_val1, y_val1 = torch.from_numpy(X_val), torch.from_numpy(y_val)\n",
        "X_val1, y_val1 = X_val1.to(device), y_val1.to(device)\n",
        "\n",
        "\n",
        "train_acc = 0\n",
        "train_accs = []\n",
        "valid_accs = []\n",
        "best_ac = 0\n",
        "\n",
        "for epoch in range(num_epochs):\n",
        "    \n",
        "    batch_loss = 0\n",
        "    n_samples = 0\n",
        "    train_acc = 0\n",
        "    \n",
        "    for X_train1, y_train1 in zip(X_train_b,y_train_b):\n",
        "        model.train()\n",
        "        n_samples += X_train1.shape[0]\n",
        "        X_train1, y_train1 = torch.from_numpy(X_train1), torch.from_numpy(y_train1)\n",
        "        X_train1, y_train1 = X_train1.to(device), y_train1.to(device)\n",
        "        \n",
        "        # Forward pass \n",
        "        outputs = model(X_train1.long())\n",
        "        loss = error(outputs, y_train1)\n",
        "        batch_loss+=loss*X_train1.shape[0]\n",
        "        train_acc += torch.sum(y_train1==torch.argmax(outputs,1)) \n",
        "        # Initializing a gradient as 0 so there is no mixing of gradient among the batches\n",
        "        optimizer.zero_grad()\n",
        "        \n",
        "        #Propagating the error backward\n",
        "        loss.backward()\n",
        "        \n",
        "        # Optimizing the parameters\n",
        "        optimizer.step()\n",
        "    print(\"No of epoch: {}, Training Loss: {} Acc: {}\".format(epoch, batch_loss/n_samples,train_acc/n_samples))\n",
        "\n",
        "    model.eval()\n",
        "\n",
        "    output = model(X_val1.long())\n",
        "    loss = error(output, y_val1)\n",
        "    valid_acc = torch.sum(y_val1==torch.argmax(output,1))/y_val1.shape[0]\n",
        "    print(\"Validation Loss: {} Acc: {}\".format(loss.data,valid_acc))\n",
        "    train_loss.append(batch_loss/n_samples)\n",
        "    val_loss.append(loss)\n",
        "    train_accs.append(train_acc/n_samples)\n",
        "    valid_accs.append(valid_acc)\n",
        "    if best_ac<valid_acc:\n",
        "      best_ac = valid_acc\n",
        "      torch.save(model,'model_dan.sav')\n",
        "\n",
        "# ploting training loss per epochs\n",
        "  \n",
        "plt.title('training and validation loss per Epoch')\n",
        "plt.plot(train_loss,label='train')\n",
        "plt.plot(val_loss,label='valid')\n",
        "plt.xlabel('Epochs')\n",
        "plt.ylabel('acc')\n",
        "plt.legend()\n",
        "plt.show()\n",
        "\n",
        "plt.title('training and validation accuracy per Epoch')\n",
        "plt.plot(train_accs,label='train')\n",
        "plt.plot(valid_accs,label='valid')\n",
        "plt.xlabel('Epochs')\n",
        "plt.ylabel('acc')\n",
        "plt.legend()\n",
        "plt.show()"
      ],
      "execution_count": null,
      "outputs": [
        {
          "output_type": "stream",
          "name": "stdout",
          "text": [
            "No of epoch: 0, Training Loss: 1.6106826066970825 Acc: 0.22399328649044037\n",
            "Validation Loss: 1.6005173921585083 Acc: 0.23489932715892792\n",
            "No of epoch: 1, Training Loss: 1.6086597442626953 Acc: 0.23657718300819397\n",
            "Validation Loss: 1.5909610986709595 Acc: 0.23489932715892792\n",
            "No of epoch: 2, Training Loss: 1.5998833179473877 Acc: 0.23322147130966187\n",
            "Validation Loss: 1.5900077819824219 Acc: 0.23489932715892792\n",
            "No of epoch: 3, Training Loss: 1.5908292531967163 Acc: 0.25\n",
            "Validation Loss: 1.5733301639556885 Acc: 0.23489932715892792\n",
            "No of epoch: 4, Training Loss: 1.5779589414596558 Acc: 0.2567114233970642\n",
            "Validation Loss: 1.5665661096572876 Acc: 0.23489932715892792\n",
            "No of epoch: 5, Training Loss: 1.5692787170410156 Acc: 0.27684563398361206\n",
            "Validation Loss: 1.5573182106018066 Acc: 0.23489932715892792\n",
            "No of epoch: 6, Training Loss: 1.5540415048599243 Acc: 0.3087248206138611\n",
            "Validation Loss: 1.5433671474456787 Acc: 0.23489932715892792\n",
            "No of epoch: 7, Training Loss: 1.5437932014465332 Acc: 0.3129194676876068\n",
            "Validation Loss: 1.5262891054153442 Acc: 0.23489932715892792\n",
            "No of epoch: 8, Training Loss: 1.5194791555404663 Acc: 0.356543630361557\n",
            "Validation Loss: 1.505444049835205 Acc: 0.2651006579399109\n",
            "No of epoch: 9, Training Loss: 1.4994312524795532 Acc: 0.4127516746520996\n",
            "Validation Loss: 1.4775300025939941 Acc: 0.29865771532058716\n",
            "No of epoch: 10, Training Loss: 1.469117283821106 Acc: 0.46476510167121887\n",
            "Validation Loss: 1.4465340375900269 Acc: 0.3322147727012634\n",
            "No of epoch: 11, Training Loss: 1.4292328357696533 Acc: 0.5008389353752136\n",
            "Validation Loss: 1.4066272974014282 Acc: 0.3959731459617615\n",
            "No of epoch: 12, Training Loss: 1.3837401866912842 Acc: 0.5461409687995911\n",
            "Validation Loss: 1.3573278188705444 Acc: 0.4429530203342438\n",
            "No of epoch: 13, Training Loss: 1.3362699747085571 Acc: 0.583053708076477\n",
            "Validation Loss: 1.3029084205627441 Acc: 0.5033556818962097\n",
            "No of epoch: 14, Training Loss: 1.269390344619751 Acc: 0.630033552646637\n",
            "Validation Loss: 1.23856520652771 Acc: 0.5536912679672241\n",
            "No of epoch: 15, Training Loss: 1.205727458000183 Acc: 0.6652684807777405\n",
            "Validation Loss: 1.167343020439148 Acc: 0.6409395933151245\n",
            "No of epoch: 16, Training Loss: 1.13080632686615 Acc: 0.6963087320327759\n",
            "Validation Loss: 1.092530608177185 Acc: 0.7114093899726868\n",
            "No of epoch: 17, Training Loss: 1.0501174926757812 Acc: 0.7273489832878113\n",
            "Validation Loss: 1.0177870988845825 Acc: 0.7617449760437012\n",
            "No of epoch: 18, Training Loss: 0.9896016120910645 Acc: 0.7600671052932739\n",
            "Validation Loss: 0.9462366104125977 Acc: 0.7416107654571533\n",
            "No of epoch: 19, Training Loss: 0.9140216708183289 Acc: 0.7684563994407654\n",
            "Validation Loss: 0.8853958249092102 Acc: 0.781879186630249\n",
            "No of epoch: 20, Training Loss: 0.8436651825904846 Acc: 0.7978187799453735\n",
            "Validation Loss: 0.8225067853927612 Acc: 0.8020133972167969\n",
            "No of epoch: 21, Training Loss: 0.7810136079788208 Acc: 0.8322147727012634\n",
            "Validation Loss: 0.7591691613197327 Acc: 0.8154362440109253\n",
            "No of epoch: 22, Training Loss: 0.7202423214912415 Acc: 0.8347315192222595\n",
            "Validation Loss: 0.7050091028213501 Acc: 0.8422818779945374\n",
            "No of epoch: 23, Training Loss: 0.6692880988121033 Acc: 0.8447986841201782\n",
            "Validation Loss: 0.6620588302612305 Acc: 0.8724832534790039\n",
            "No of epoch: 24, Training Loss: 0.6138573288917542 Acc: 0.8733221292495728\n",
            "Validation Loss: 0.6097830533981323 Acc: 0.8892617225646973\n",
            "No of epoch: 25, Training Loss: 0.561712920665741 Acc: 0.9043624401092529\n",
            "Validation Loss: 0.5660587549209595 Acc: 0.8926174640655518\n",
            "No of epoch: 26, Training Loss: 0.5220760107040405 Acc: 0.8968120813369751\n",
            "Validation Loss: 0.5331116914749146 Acc: 0.8959731459617615\n",
            "No of epoch: 27, Training Loss: 0.4829731285572052 Acc: 0.9093959927558899\n",
            "Validation Loss: 0.494828999042511 Acc: 0.9060402512550354\n",
            "No of epoch: 28, Training Loss: 0.4390213191509247 Acc: 0.9127516746520996\n",
            "Validation Loss: 0.4634532630443573 Acc: 0.9127516746520996\n",
            "No of epoch: 29, Training Loss: 0.4033280611038208 Acc: 0.9244966506958008\n",
            "Validation Loss: 0.42906099557876587 Acc: 0.9194630980491638\n",
            "No of epoch: 30, Training Loss: 0.3724709451198578 Acc: 0.9328858852386475\n",
            "Validation Loss: 0.405420184135437 Acc: 0.9228187799453735\n",
            "No of epoch: 31, Training Loss: 0.34475836157798767 Acc: 0.936241626739502\n",
            "Validation Loss: 0.384073942899704 Acc: 0.9228187799453735\n",
            "No of epoch: 32, Training Loss: 0.32164356112480164 Acc: 0.9404362440109253\n",
            "Validation Loss: 0.3592115640640259 Acc: 0.926174521446228\n",
            "No of epoch: 33, Training Loss: 0.2910204529762268 Acc: 0.9513422846794128\n",
            "Validation Loss: 0.34711799025535583 Acc: 0.9228187799453735\n",
            "No of epoch: 34, Training Loss: 0.2669728696346283 Acc: 0.9530201554298401\n",
            "Validation Loss: 0.3339911699295044 Acc: 0.9228187799453735\n",
            "No of epoch: 35, Training Loss: 0.24684110283851624 Acc: 0.9538590908050537\n",
            "Validation Loss: 0.3055179715156555 Acc: 0.936241626739502\n",
            "No of epoch: 36, Training Loss: 0.2264924794435501 Acc: 0.958053708076477\n",
            "Validation Loss: 0.29256415367126465 Acc: 0.9328858852386475\n",
            "No of epoch: 37, Training Loss: 0.20876754820346832 Acc: 0.9639261960983276\n",
            "Validation Loss: 0.28520667552948 Acc: 0.936241626739502\n",
            "No of epoch: 38, Training Loss: 0.1991000920534134 Acc: 0.9597315192222595\n",
            "Validation Loss: 0.26277193427085876 Acc: 0.9328858852386475\n",
            "No of epoch: 39, Training Loss: 0.17706234753131866 Acc: 0.968120813369751\n",
            "Validation Loss: 0.25016412138938904 Acc: 0.9429530501365662\n",
            "No of epoch: 40, Training Loss: 0.1675739586353302 Acc: 0.9664429426193237\n",
            "Validation Loss: 0.23765945434570312 Acc: 0.9530201554298401\n",
            "No of epoch: 41, Training Loss: 0.15861138701438904 Acc: 0.9706375598907471\n",
            "Validation Loss: 0.2350948452949524 Acc: 0.9429530501365662\n",
            "No of epoch: 42, Training Loss: 0.14051693677902222 Acc: 0.9765100479125977\n",
            "Validation Loss: 0.22800548374652863 Acc: 0.9463087320327759\n",
            "No of epoch: 43, Training Loss: 0.14032389223575592 Acc: 0.9731543660163879\n",
            "Validation Loss: 0.2180696278810501 Acc: 0.9496644139289856\n",
            "No of epoch: 44, Training Loss: 0.12211639434099197 Acc: 0.9848993420600891\n",
            "Validation Loss: 0.21345193684101105 Acc: 0.9463087320327759\n",
            "No of epoch: 45, Training Loss: 0.1170012429356575 Acc: 0.9773489832878113\n",
            "Validation Loss: 0.20252937078475952 Acc: 0.9496644139289856\n",
            "No of epoch: 46, Training Loss: 0.10796207934617996 Acc: 0.9815436005592346\n",
            "Validation Loss: 0.199840247631073 Acc: 0.9496644139289856\n",
            "No of epoch: 47, Training Loss: 0.09327151626348495 Acc: 0.9857382774353027\n",
            "Validation Loss: 0.20486260950565338 Acc: 0.9496644139289856\n",
            "No of epoch: 48, Training Loss: 0.09470827877521515 Acc: 0.9815436005592346\n",
            "Validation Loss: 0.1845095455646515 Acc: 0.9597315192222595\n",
            "No of epoch: 49, Training Loss: 0.08409832417964935 Acc: 0.9840604066848755\n",
            "Validation Loss: 0.1978606879711151 Acc: 0.9463087320327759\n",
            "No of epoch: 50, Training Loss: 0.07852914184331894 Acc: 0.9882550239562988\n",
            "Validation Loss: 0.1840706616640091 Acc: 0.9496644139289856\n",
            "No of epoch: 51, Training Loss: 0.07612696290016174 Acc: 0.9882550239562988\n",
            "Validation Loss: 0.1752350628376007 Acc: 0.9563758373260498\n",
            "No of epoch: 52, Training Loss: 0.06933923065662384 Acc: 0.9890939593315125\n",
            "Validation Loss: 0.17995421588420868 Acc: 0.9597315192222595\n",
            "No of epoch: 53, Training Loss: 0.0690101906657219 Acc: 0.9916107654571533\n",
            "Validation Loss: 0.18804696202278137 Acc: 0.9496644139289856\n",
            "No of epoch: 54, Training Loss: 0.06588464975357056 Acc: 0.9848993420600891\n",
            "Validation Loss: 0.17866668105125427 Acc: 0.963087260723114\n",
            "No of epoch: 55, Training Loss: 0.057372067123651505 Acc: 0.9907718300819397\n",
            "Validation Loss: 0.1799853891134262 Acc: 0.9496644139289856\n",
            "No of epoch: 56, Training Loss: 0.04925067350268364 Acc: 0.9941275119781494\n",
            "Validation Loss: 0.16738669574260712 Acc: 0.9597315192222595\n",
            "No of epoch: 57, Training Loss: 0.04713122174143791 Acc: 0.9941275119781494\n",
            "Validation Loss: 0.16575950384140015 Acc: 0.963087260723114\n",
            "No of epoch: 58, Training Loss: 0.04784112423658371 Acc: 0.9924496412277222\n",
            "Validation Loss: 0.16292493045330048 Acc: 0.9664429426193237\n",
            "No of epoch: 59, Training Loss: 0.04656732827425003 Acc: 0.9916107654571533\n",
            "Validation Loss: 0.1616508662700653 Acc: 0.9563758373260498\n",
            "No of epoch: 60, Training Loss: 0.04074673354625702 Acc: 0.994966447353363\n",
            "Validation Loss: 0.16027352213859558 Acc: 0.963087260723114\n",
            "No of epoch: 61, Training Loss: 0.0390033982694149 Acc: 0.9941275119781494\n",
            "Validation Loss: 0.1607469767332077 Acc: 0.963087260723114\n",
            "No of epoch: 62, Training Loss: 0.035071924328804016 Acc: 0.9966443181037903\n",
            "Validation Loss: 0.16204437613487244 Acc: 0.963087260723114\n",
            "No of epoch: 63, Training Loss: 0.03238995745778084 Acc: 0.9958053827285767\n",
            "Validation Loss: 0.15920884907245636 Acc: 0.9563758373260498\n",
            "No of epoch: 64, Training Loss: 0.034502383321523666 Acc: 0.9916107654571533\n",
            "Validation Loss: 0.16019503772258759 Acc: 0.963087260723114\n",
            "No of epoch: 65, Training Loss: 0.03314361721277237 Acc: 0.9958053827285767\n",
            "Validation Loss: 0.14675357937812805 Acc: 0.963087260723114\n",
            "No of epoch: 66, Training Loss: 0.02760831080377102 Acc: 0.994966447353363\n",
            "Validation Loss: 0.15623152256011963 Acc: 0.963087260723114\n",
            "No of epoch: 67, Training Loss: 0.028723904862999916 Acc: 0.9941275119781494\n",
            "Validation Loss: 0.1585959941148758 Acc: 0.9563758373260498\n",
            "No of epoch: 68, Training Loss: 0.02628886140882969 Acc: 0.9966443181037903\n",
            "Validation Loss: 0.1631181389093399 Acc: 0.9664429426193237\n",
            "No of epoch: 69, Training Loss: 0.02089633233845234 Acc: 0.9983221292495728\n",
            "Validation Loss: 0.15577030181884766 Acc: 0.9664429426193237\n",
            "No of epoch: 70, Training Loss: 0.02154291793704033 Acc: 0.9974832534790039\n",
            "Validation Loss: 0.15127040445804596 Acc: 0.963087260723114\n",
            "No of epoch: 71, Training Loss: 0.020323339849710464 Acc: 0.9958053827285767\n",
            "Validation Loss: 0.15400755405426025 Acc: 0.9664429426193237\n",
            "No of epoch: 72, Training Loss: 0.019197186455130577 Acc: 0.9991610646247864\n",
            "Validation Loss: 0.14621448516845703 Acc: 0.9597315192222595\n",
            "No of epoch: 73, Training Loss: 0.016447890549898148 Acc: 0.9991610646247864\n",
            "Validation Loss: 0.1515842229127884 Acc: 0.9664429426193237\n",
            "No of epoch: 74, Training Loss: 0.014157800935208797 Acc: 0.9991610646247864\n",
            "Validation Loss: 0.15460266172885895 Acc: 0.9597315192222595\n",
            "No of epoch: 75, Training Loss: 0.014084585942327976 Acc: 1.0\n",
            "Validation Loss: 0.1579493135213852 Acc: 0.9697986841201782\n",
            "No of epoch: 76, Training Loss: 0.01524555403739214 Acc: 0.9966443181037903\n",
            "Validation Loss: 0.14960116147994995 Acc: 0.9664429426193237\n",
            "No of epoch: 77, Training Loss: 0.010492739267647266 Acc: 1.0\n",
            "Validation Loss: 0.14784471690654755 Acc: 0.9664429426193237\n",
            "No of epoch: 78, Training Loss: 0.012877656146883965 Acc: 0.9991610646247864\n",
            "Validation Loss: 0.15259361267089844 Acc: 0.9664429426193237\n",
            "No of epoch: 79, Training Loss: 0.011478905566036701 Acc: 0.9991610646247864\n",
            "Validation Loss: 0.1483759582042694 Acc: 0.963087260723114\n",
            "No of epoch: 80, Training Loss: 0.009865260683000088 Acc: 0.9991610646247864\n",
            "Validation Loss: 0.15605516731739044 Acc: 0.9664429426193237\n",
            "No of epoch: 81, Training Loss: 0.009667295031249523 Acc: 1.0\n",
            "Validation Loss: 0.15122069418430328 Acc: 0.9597315192222595\n",
            "No of epoch: 82, Training Loss: 0.008854935877025127 Acc: 1.0\n",
            "Validation Loss: 0.15022441744804382 Acc: 0.9664429426193237\n",
            "No of epoch: 83, Training Loss: 0.008327923715114594 Acc: 0.9991610646247864\n",
            "Validation Loss: 0.15680062770843506 Acc: 0.9664429426193237\n",
            "No of epoch: 84, Training Loss: 0.009542585350573063 Acc: 0.9991610646247864\n",
            "Validation Loss: 0.15936705470085144 Acc: 0.963087260723114\n",
            "No of epoch: 85, Training Loss: 0.009076281450688839 Acc: 0.9983221292495728\n",
            "Validation Loss: 0.15199647843837738 Acc: 0.9664429426193237\n",
            "No of epoch: 86, Training Loss: 0.00951230525970459 Acc: 0.9983221292495728\n",
            "Validation Loss: 0.16207532584667206 Acc: 0.9664429426193237\n",
            "No of epoch: 87, Training Loss: 0.006055620964616537 Acc: 1.0\n",
            "Validation Loss: 0.15457262098789215 Acc: 0.9664429426193237\n",
            "No of epoch: 88, Training Loss: 0.006535017862915993 Acc: 0.9991610646247864\n",
            "Validation Loss: 0.15330292284488678 Acc: 0.963087260723114\n",
            "No of epoch: 89, Training Loss: 0.006767439190298319 Acc: 0.9983221292495728\n",
            "Validation Loss: 0.15971879661083221 Acc: 0.9697986841201782\n",
            "No of epoch: 90, Training Loss: 0.0062685394659638405 Acc: 0.9991610646247864\n",
            "Validation Loss: 0.15342773497104645 Acc: 0.963087260723114\n",
            "No of epoch: 91, Training Loss: 0.004410021472722292 Acc: 1.0\n",
            "Validation Loss: 0.14959581196308136 Acc: 0.9664429426193237\n",
            "No of epoch: 92, Training Loss: 0.004575446248054504 Acc: 0.9991610646247864\n",
            "Validation Loss: 0.15261708199977875 Acc: 0.9697986841201782\n",
            "No of epoch: 93, Training Loss: 0.0040512108244001865 Acc: 1.0\n",
            "Validation Loss: 0.16544941067695618 Acc: 0.9597315192222595\n",
            "No of epoch: 94, Training Loss: 0.003935431130230427 Acc: 0.9991610646247864\n",
            "Validation Loss: 0.17712029814720154 Acc: 0.9731543660163879\n",
            "No of epoch: 95, Training Loss: 0.0038744902703911066 Acc: 1.0\n",
            "Validation Loss: 0.15871457755565643 Acc: 0.9664429426193237\n"
          ]
        }
      ]
    },
    {
      "cell_type": "code",
      "metadata": {
        "colab": {
          "base_uri": "https://localhost:8080/",
          "height": 673
        },
        "id": "uRMf9gd_X_zw",
        "outputId": "e0da147d-79cd-4a51-ce6f-04a905f530ca"
      },
      "source": [
        "class TransformerCnn(nn.Module):\n",
        "    def __init__(self,vocab_size,embed_dim,seq_len,output_dim,nheads,nlayers,dropout,device):\n",
        "        super(TransformerCnn, self).__init__()\n",
        "        self.embed_dim = embed_dim\n",
        "        self.embedding = nn.Embedding(vocab_size,embed_dim,padding_idx = 0)\n",
        "        encoder_layers = nn.TransformerEncoderLayer(d_model = embed_dim, nhead = nheads, dim_feedforward=64, dropout=dropout, batch_first=True, device=device)\n",
        "        self.transformer_encoder = nn.TransformerEncoder(encoder_layers, nlayers)\n",
        "        \n",
        "        self.fc1 = nn.Linear(in_features=embed_dim, out_features=16)\n",
        "        self.drop = nn.Dropout2d(0.25)\n",
        "        '''self.fc2 = nn.Linear(in_features=1000, out_features=500)\n",
        "        self.fc3 = nn.Linear(in_features=500, out_features=100)'''\n",
        "        self.fc4 = nn.Linear(in_features=16, out_features=output_dim)\n",
        "        \n",
        "    def forward(self, x):\n",
        "        # x = [batch, num_sentence, num_words]\n",
        "        batch_size = x.shape[0]\n",
        "        para_size = x.shape[1]\n",
        "        sen_size = x.shape[2]\n",
        "        embed_dim = self.embed_dim\n",
        "        embed = self.embedding(x)\n",
        "        # embed = [batch, num_sentence, num_words, embed_dim]\n",
        "        embed_trans = embed.reshape(batch_size*para_size,sen_size,embed_dim)\n",
        "        # embed_trans = [batch*num_sentence, num_words, embed_dim]\n",
        "        embed_trans = self.transformer_encoder(embed_trans)\n",
        "        embed_trans = embed_trans.reshape(batch_size,para_size,sen_size,embed_dim)\n",
        "        # embed_trans = [batch, num_sentence, num_words, embed_dim]\n",
        "        embed_trans = torch.sum(embed_trans, dim = 2).squeeze(2)\n",
        "        # embed_trans  = [batch, num_sentences, embed_dim]\n",
        "        embed_trans = torch.mean(embed_trans,dim = 1).squeeze(1)\n",
        "        # embed_trans  = [batch, embed_dim]\n",
        "        \n",
        "        lin1 = self.fc1(embed_trans)\n",
        "        '''lin1 = self.drop(lin1)\n",
        "        lin2 = self.fc2(lin1)\n",
        "        lin2 = self.drop(lin2)\n",
        "        lin3 = self.fc3(lin2)'''\n",
        "        lin3 = self.drop(lin1)\n",
        "        lin4 = self.fc4(lin3)\n",
        "        return lin4\n",
        "\n",
        "embed_dim = 100\n",
        "vocab_dim = vocab_size\n",
        "max_sen_length = X_train.shape[1]\n",
        "num_classes = 5\n",
        "n_head = 5\n",
        "dropout = 0.4\n",
        "n_layer = 1\n",
        "# model = TransformerCnn(vocab_size = vocab_dim, embed_dim = embed_dim, seq_len = max_sen_length, output_dim = num_classes, nheads = n_head, nlayers = n_layer, dropout = dropout,device=device).to(device)\n",
        "model = torch.load('model_transformer.sav')\n",
        "error = nn.CrossEntropyLoss()\n",
        "\n",
        "learning_rate = 0.0001\n",
        "optimizer = torch.optim.Adam(model.parameters(), lr=learning_rate)\n",
        "num_epochs =  2\n",
        "batch_size = 2\n",
        "size = X_train.shape[0]\n",
        "d = int(size/batch_size)\n",
        "val_size = int(0.2*X_train.shape[0])\n",
        "X_train_b = np.array_split(X_train[val_size:,:,:],d)\n",
        "y_train_b = np.array_split(y_train[val_size:],d)\n",
        "train_loss = []\n",
        "val_loss = []\n",
        "\n",
        "X_val = X_train[:val_size,:,:]\n",
        "y_val = y_train[:val_size] \n",
        "X_val1, y_val1 = torch.from_numpy(X_val), torch.from_numpy(y_val)\n",
        "X_val1, y_val1 = X_val1.to(device), y_val1.to(device)\n",
        "X_train_d, y_train_d = [torch.from_numpy(X_train_b[i]).to(device) for i in range(len(X_train_b))], [torch.from_numpy(y_train_b[i]).to(device) for i in range(len(y_train_b))]\n",
        "\n",
        "train_acc = 0\n",
        "train_accs = []\n",
        "valid_accs = []\n",
        "best_ac = 0\n",
        "for epoch in range(num_epochs):\n",
        "    def count_parameters(model):\n",
        "        return sum(p.numel() for p in model.parameters() if p.requires_grad)\n",
        "    print(f'The model has {count_parameters(model):,} trainable parameters')\n",
        "    batch_loss = 0\n",
        "    n_samples = 0\n",
        "    train_acc = 0\n",
        "    \n",
        "    for X_train1, y_train1 in zip(X_train_d,y_train_d):\n",
        "        model.train()\n",
        "        n_samples += X_train1.shape[0]\n",
        "        # X_train1, y_train1 = torch.from_numpy(X_train1), torch.from_numpy(y_train1)\n",
        "        #X_train1, y_train1 = X_train1.to(device), y_train1.to(device)\n",
        "\n",
        "        # Forward pass \n",
        "        outputs = model(X_train1)\n",
        "        loss = error(outputs, y_train1)\n",
        "        batch_loss+=loss*X_train1.shape[0]\n",
        "        train_acc += torch.sum(y_train1==torch.argmax(outputs,1)) \n",
        "        # Initializing a gradient as 0 so there is no mixing of gradient among the batches\n",
        "        optimizer.zero_grad()\n",
        "        #Propagating the error backward\n",
        "        loss.backward()\n",
        "        \n",
        "        # Optimizing the parameters\n",
        "        optimizer.step()\n",
        "        torch.cuda.empty_cache()\n",
        "    print(\"No of epoch: {}, Training Loss: {} Acc: {}\".format(epoch, batch_loss/n_samples,train_acc/n_samples))\n",
        "\n",
        "    model.eval()\n",
        "    output = model(X_val1)\n",
        "    loss = error(output, y_val1)\n",
        "    valid_acc = torch.sum(y_val1==torch.argmax(output,1))/y_val1.shape[0]\n",
        "    print(\"Validation Loss: {} Acc: {}\".format(loss.data,valid_acc))\n",
        "    train_loss.append(batch_loss/n_samples)\n",
        "    val_loss.append(loss)\n",
        "    train_accs.append(train_acc/n_samples)\n",
        "    valid_accs.append(valid_acc)\n",
        "    if best_ac<valid_acc:\n",
        "      best_ac = valid_acc\n",
        "      torch.save(model,'model_transformer.sav')\n",
        "\n",
        "# ploting training loss per epochs\n",
        "  \n",
        "plt.title('training and validation loss per Epoch')\n",
        "plt.plot(train_loss,label='train')\n",
        "plt.plot(val_loss,label='valid')\n",
        "plt.xlabel('Epochs')\n",
        "plt.ylabel('acc')\n",
        "plt.legend()\n",
        "plt.show()\n",
        "\n",
        "plt.title('training and validation accuracy per Epoch')\n",
        "plt.plot(train_accs,label='train')\n",
        "plt.plot(valid_accs,label='valid')\n",
        "plt.xlabel('Epochs')\n",
        "plt.ylabel('acc')\n",
        "plt.legend()\n",
        "plt.show() "
      ],
      "execution_count": 13,
      "outputs": [
        {
          "output_type": "stream",
          "name": "stdout",
          "text": [
            "The model has 2,485,465 trainable parameters\n",
            "No of epoch: 0, Training Loss: 0.00230586645193398 Acc: 1.0\n",
            "Validation Loss: 0.8099813461303711 Acc: 0.899328887462616\n",
            "The model has 2,485,465 trainable parameters\n",
            "No of epoch: 1, Training Loss: 0.0024002871941775084 Acc: 0.9991610646247864\n",
            "Validation Loss: 0.9110188484191895 Acc: 0.8959731459617615\n"
          ]
        },
        {
          "output_type": "display_data",
          "data": {
            "image/png": "[encoded data removed]",
            "text/plain": [
              "<Figure size 432x288 with 1 Axes>"
            ]
          },
          "metadata": {
            "needs_background": "light"
          }
        },
        {
          "output_type": "display_data",
          "data": {
            "image/png": "[encoded data removed]",
            "text/plain": [
              "<Figure size 432x288 with 1 Axes>"
            ]
          },
          "metadata": {
            "needs_background": "light"
          }
        }
      ]
    },
    {
      "cell_type": "code",
      "metadata": {
        "colab": {
          "base_uri": "https://localhost:8080/"
        },
        "id": "d6JIxcaT8dtP",
        "outputId": "f4d48ba3-40cf-4918-da36-ced8d4cd0232"
      },
      "source": [
        "from sklearn.metrics import f1_score,classification_report\n",
        "X_test1, y_test1= torch.from_numpy(X_test), torch.from_numpy(y_test)\n",
        "X_test1,y_test1 = X_test1.to(device), y_test1.to(device)\n",
        "model = torch.load('model_transformer.sav')\n",
        "model.eval()\n",
        "output = model(X_test1)\n",
        "#loss = error(output, y_test1)\n",
        "test_acc = torch.sum(y_test1==torch.argmax(output,1))/y_test1.shape[0]\n",
        "y_pred = le.inverse_transform(torch.argmax(output,1).detach().cpu().numpy())\n",
        "#df = pd.DataFrame({'ArticleId':list(pd.read_csv('TestData_Labels.csv').values[:,0]),'Category':list(y_pred)})\n",
        "#df.to_csv('result1.csv',index=False)\n",
        "print(\"Using USE Test  Acc: {}, f1-score: {}\".format(test_acc,f1_score(y_test,torch.argmax(output,1).detach().cpu().numpy(),average='micro')))\n",
        "print(classification_report(y_test,torch.argmax(output,1).detach().cpu().numpy()))"
      ],
      "execution_count": 14,
      "outputs": [
        {
          "output_type": "stream",
          "name": "stdout",
          "text": [
            "Using USE Test  Acc: 0.8721088767051697, f1-score: 0.8721088435374149\n",
            "              precision    recall  f1-score   support\n",
            "\n",
            "           0       0.93      0.82      0.87       176\n",
            "           1       0.70      0.96      0.81       113\n",
            "           2       0.85      0.91      0.88       143\n",
            "           3       0.94      0.90      0.92       168\n",
            "           4       0.96      0.79      0.87       135\n",
            "\n",
            "    accuracy                           0.87       735\n",
            "   macro avg       0.88      0.88      0.87       735\n",
            "weighted avg       0.89      0.87      0.87       735\n",
            "\n"
          ]
        }
      ]
    },
    {
      "cell_type": "code",
      "metadata": {
        "id": "R-VKnAGSDPs5",
        "colab": {
          "base_uri": "https://localhost:8080/"
        },
        "outputId": "616a761b-ac2c-4a83-b8c5-de80a167fee1"
      },
      "source": [
        "from sklearn.metrics import f1_score,classification_report\n",
        "X_test1, y_test1= torch.from_numpy(X_test), torch.from_numpy(y_test)\n",
        "X_test1,y_test1 = X_test1.to(device), y_test1.to(device)\n",
        "model = torch.load('model_dan.sav')\n",
        "model.eval()\n",
        "output = model(X_test1)\n",
        "#loss = error(output, y_test1)\n",
        "test_acc = torch.sum(y_test1==torch.argmax(output,1))/y_test1.shape[0]\n",
        "y_pred = le.inverse_transform(torch.argmax(output,1).detach().cpu().numpy())\n",
        "#df = pd.DataFrame({'ArticleId':list(pd.read_csv('TestData_Labels.csv').values[:,0]),'Category':list(y_pred)})\n",
        "#df.to_csv('result1.csv',index=False)\n",
        "print(\"Using USE Test  Acc: {}, f1-score: {}\".format(test_acc,f1_score(y_test,torch.argmax(output,1).detach().cpu().numpy(),average='micro')))\n",
        "print(classification_report(y_test,torch.argmax(output,1).detach().cpu().numpy()))"
      ],
      "execution_count": 15,
      "outputs": [
        {
          "output_type": "stream",
          "name": "stdout",
          "text": [
            "Using USE Test  Acc: 0.9510204195976257, f1-score: 0.9510204081632653\n",
            "              precision    recall  f1-score   support\n",
            "\n",
            "           0       0.94      0.91      0.93       176\n",
            "           1       0.95      0.96      0.96       113\n",
            "           2       0.97      0.92      0.95       143\n",
            "           3       0.99      0.97      0.98       168\n",
            "           4       0.91      0.99      0.95       135\n",
            "\n",
            "    accuracy                           0.95       735\n",
            "   macro avg       0.95      0.95      0.95       735\n",
            "weighted avg       0.95      0.95      0.95       735\n",
            "\n"
          ]
        }
      ]
    },
    {
      "cell_type": "code",
      "metadata": {
        "id": "co3XukjRJ-t7"
      },
      "source": [
        ""
      ],
      "execution_count": null,
      "outputs": []
    }
  ]
}